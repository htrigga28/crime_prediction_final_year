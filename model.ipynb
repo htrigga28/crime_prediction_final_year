{
 "cells": [
  {
   "cell_type": "code",
   "execution_count": 9,
   "metadata": {},
   "outputs": [],
   "source": [
    "import pandas as pd\n",
    "from sklearn.model_selection import train_test_split\n",
    "from sklearn.preprocessing import LabelEncoder\n",
    "from sklearn.metrics import accuracy_score"
   ]
  },
  {
   "cell_type": "code",
   "execution_count": 10,
   "metadata": {},
   "outputs": [],
   "source": [
    "# Load the data into a pandas DataFrame\n",
    "data = pd.read_csv('Chicago_Crimes_2012_to_2017.csv')"
   ]
  },
  {
   "cell_type": "code",
   "execution_count": 11,
   "metadata": {},
   "outputs": [
    {
     "data": {
      "text/html": [
       "<div>\n",
       "<style scoped>\n",
       "    .dataframe tbody tr th:only-of-type {\n",
       "        vertical-align: middle;\n",
       "    }\n",
       "\n",
       "    .dataframe tbody tr th {\n",
       "        vertical-align: top;\n",
       "    }\n",
       "\n",
       "    .dataframe thead th {\n",
       "        text-align: right;\n",
       "    }\n",
       "</style>\n",
       "<table border=\"1\" class=\"dataframe\">\n",
       "  <thead>\n",
       "    <tr style=\"text-align: right;\">\n",
       "      <th></th>\n",
       "      <th>Unnamed: 0</th>\n",
       "      <th>ID</th>\n",
       "      <th>Case Number</th>\n",
       "      <th>Date</th>\n",
       "      <th>Block</th>\n",
       "      <th>IUCR</th>\n",
       "      <th>Primary Type</th>\n",
       "      <th>Description</th>\n",
       "      <th>Location Description</th>\n",
       "      <th>Arrest</th>\n",
       "      <th>...</th>\n",
       "      <th>Ward</th>\n",
       "      <th>Community Area</th>\n",
       "      <th>FBI Code</th>\n",
       "      <th>X Coordinate</th>\n",
       "      <th>Y Coordinate</th>\n",
       "      <th>Year</th>\n",
       "      <th>Updated On</th>\n",
       "      <th>Latitude</th>\n",
       "      <th>Longitude</th>\n",
       "      <th>Location</th>\n",
       "    </tr>\n",
       "  </thead>\n",
       "  <tbody>\n",
       "    <tr>\n",
       "      <th>0</th>\n",
       "      <td>3</td>\n",
       "      <td>10508693</td>\n",
       "      <td>HZ250496</td>\n",
       "      <td>05/03/2016 11:40:00 PM</td>\n",
       "      <td>013XX S SAWYER AVE</td>\n",
       "      <td>0486</td>\n",
       "      <td>BATTERY</td>\n",
       "      <td>DOMESTIC BATTERY SIMPLE</td>\n",
       "      <td>APARTMENT</td>\n",
       "      <td>True</td>\n",
       "      <td>...</td>\n",
       "      <td>24.0</td>\n",
       "      <td>29.0</td>\n",
       "      <td>08B</td>\n",
       "      <td>1154907.0</td>\n",
       "      <td>1893681.0</td>\n",
       "      <td>2016</td>\n",
       "      <td>05/10/2016 03:56:50 PM</td>\n",
       "      <td>41.864073</td>\n",
       "      <td>-87.706819</td>\n",
       "      <td>(41.864073157, -87.706818608)</td>\n",
       "    </tr>\n",
       "    <tr>\n",
       "      <th>1</th>\n",
       "      <td>89</td>\n",
       "      <td>10508695</td>\n",
       "      <td>HZ250409</td>\n",
       "      <td>05/03/2016 09:40:00 PM</td>\n",
       "      <td>061XX S DREXEL AVE</td>\n",
       "      <td>0486</td>\n",
       "      <td>BATTERY</td>\n",
       "      <td>DOMESTIC BATTERY SIMPLE</td>\n",
       "      <td>RESIDENCE</td>\n",
       "      <td>False</td>\n",
       "      <td>...</td>\n",
       "      <td>20.0</td>\n",
       "      <td>42.0</td>\n",
       "      <td>08B</td>\n",
       "      <td>1183066.0</td>\n",
       "      <td>1864330.0</td>\n",
       "      <td>2016</td>\n",
       "      <td>05/10/2016 03:56:50 PM</td>\n",
       "      <td>41.782922</td>\n",
       "      <td>-87.604363</td>\n",
       "      <td>(41.782921527, -87.60436317)</td>\n",
       "    </tr>\n",
       "    <tr>\n",
       "      <th>2</th>\n",
       "      <td>197</td>\n",
       "      <td>10508697</td>\n",
       "      <td>HZ250503</td>\n",
       "      <td>05/03/2016 11:31:00 PM</td>\n",
       "      <td>053XX W CHICAGO AVE</td>\n",
       "      <td>0470</td>\n",
       "      <td>PUBLIC PEACE VIOLATION</td>\n",
       "      <td>RECKLESS CONDUCT</td>\n",
       "      <td>STREET</td>\n",
       "      <td>False</td>\n",
       "      <td>...</td>\n",
       "      <td>37.0</td>\n",
       "      <td>25.0</td>\n",
       "      <td>24</td>\n",
       "      <td>1140789.0</td>\n",
       "      <td>1904819.0</td>\n",
       "      <td>2016</td>\n",
       "      <td>05/10/2016 03:56:50 PM</td>\n",
       "      <td>41.894908</td>\n",
       "      <td>-87.758372</td>\n",
       "      <td>(41.894908283, -87.758371958)</td>\n",
       "    </tr>\n",
       "    <tr>\n",
       "      <th>3</th>\n",
       "      <td>673</td>\n",
       "      <td>10508698</td>\n",
       "      <td>HZ250424</td>\n",
       "      <td>05/03/2016 10:10:00 PM</td>\n",
       "      <td>049XX W FULTON ST</td>\n",
       "      <td>0460</td>\n",
       "      <td>BATTERY</td>\n",
       "      <td>SIMPLE</td>\n",
       "      <td>SIDEWALK</td>\n",
       "      <td>False</td>\n",
       "      <td>...</td>\n",
       "      <td>28.0</td>\n",
       "      <td>25.0</td>\n",
       "      <td>08B</td>\n",
       "      <td>1143223.0</td>\n",
       "      <td>1901475.0</td>\n",
       "      <td>2016</td>\n",
       "      <td>05/10/2016 03:56:50 PM</td>\n",
       "      <td>41.885687</td>\n",
       "      <td>-87.749516</td>\n",
       "      <td>(41.885686845, -87.749515983)</td>\n",
       "    </tr>\n",
       "    <tr>\n",
       "      <th>4</th>\n",
       "      <td>911</td>\n",
       "      <td>10508699</td>\n",
       "      <td>HZ250455</td>\n",
       "      <td>05/03/2016 10:00:00 PM</td>\n",
       "      <td>003XX N LOTUS AVE</td>\n",
       "      <td>0820</td>\n",
       "      <td>THEFT</td>\n",
       "      <td>$500 AND UNDER</td>\n",
       "      <td>RESIDENCE</td>\n",
       "      <td>False</td>\n",
       "      <td>...</td>\n",
       "      <td>28.0</td>\n",
       "      <td>25.0</td>\n",
       "      <td>06</td>\n",
       "      <td>1139890.0</td>\n",
       "      <td>1901675.0</td>\n",
       "      <td>2016</td>\n",
       "      <td>05/10/2016 03:56:50 PM</td>\n",
       "      <td>41.886297</td>\n",
       "      <td>-87.761751</td>\n",
       "      <td>(41.886297242, -87.761750709)</td>\n",
       "    </tr>\n",
       "  </tbody>\n",
       "</table>\n",
       "<p>5 rows × 23 columns</p>\n",
       "</div>"
      ],
      "text/plain": [
       "   Unnamed: 0        ID Case Number                    Date  \\\n",
       "0           3  10508693    HZ250496  05/03/2016 11:40:00 PM   \n",
       "1          89  10508695    HZ250409  05/03/2016 09:40:00 PM   \n",
       "2         197  10508697    HZ250503  05/03/2016 11:31:00 PM   \n",
       "3         673  10508698    HZ250424  05/03/2016 10:10:00 PM   \n",
       "4         911  10508699    HZ250455  05/03/2016 10:00:00 PM   \n",
       "\n",
       "                 Block  IUCR            Primary Type              Description  \\\n",
       "0   013XX S SAWYER AVE  0486                 BATTERY  DOMESTIC BATTERY SIMPLE   \n",
       "1   061XX S DREXEL AVE  0486                 BATTERY  DOMESTIC BATTERY SIMPLE   \n",
       "2  053XX W CHICAGO AVE  0470  PUBLIC PEACE VIOLATION         RECKLESS CONDUCT   \n",
       "3    049XX W FULTON ST  0460                 BATTERY                   SIMPLE   \n",
       "4    003XX N LOTUS AVE  0820                   THEFT           $500 AND UNDER   \n",
       "\n",
       "  Location Description  Arrest  ...  Ward  Community Area  FBI Code  \\\n",
       "0            APARTMENT    True  ...  24.0            29.0       08B   \n",
       "1            RESIDENCE   False  ...  20.0            42.0       08B   \n",
       "2               STREET   False  ...  37.0            25.0        24   \n",
       "3             SIDEWALK   False  ...  28.0            25.0       08B   \n",
       "4            RESIDENCE   False  ...  28.0            25.0        06   \n",
       "\n",
       "   X Coordinate  Y Coordinate  Year              Updated On   Latitude  \\\n",
       "0     1154907.0     1893681.0  2016  05/10/2016 03:56:50 PM  41.864073   \n",
       "1     1183066.0     1864330.0  2016  05/10/2016 03:56:50 PM  41.782922   \n",
       "2     1140789.0     1904819.0  2016  05/10/2016 03:56:50 PM  41.894908   \n",
       "3     1143223.0     1901475.0  2016  05/10/2016 03:56:50 PM  41.885687   \n",
       "4     1139890.0     1901675.0  2016  05/10/2016 03:56:50 PM  41.886297   \n",
       "\n",
       "   Longitude                       Location  \n",
       "0 -87.706819  (41.864073157, -87.706818608)  \n",
       "1 -87.604363   (41.782921527, -87.60436317)  \n",
       "2 -87.758372  (41.894908283, -87.758371958)  \n",
       "3 -87.749516  (41.885686845, -87.749515983)  \n",
       "4 -87.761751  (41.886297242, -87.761750709)  \n",
       "\n",
       "[5 rows x 23 columns]"
      ]
     },
     "execution_count": 11,
     "metadata": {},
     "output_type": "execute_result"
    }
   ],
   "source": [
    "data.head()"
   ]
  },
  {
   "cell_type": "code",
   "execution_count": 12,
   "metadata": {},
   "outputs": [
    {
     "name": "stdout",
     "output_type": "stream",
     "text": [
      "<class 'pandas.core.frame.DataFrame'>\n",
      "RangeIndex: 1456714 entries, 0 to 1456713\n",
      "Data columns (total 23 columns):\n",
      " #   Column                Non-Null Count    Dtype  \n",
      "---  ------                --------------    -----  \n",
      " 0   Unnamed: 0            1456714 non-null  int64  \n",
      " 1   ID                    1456714 non-null  int64  \n",
      " 2   Case Number           1456713 non-null  object \n",
      " 3   Date                  1456714 non-null  object \n",
      " 4   Block                 1456714 non-null  object \n",
      " 5   IUCR                  1456714 non-null  object \n",
      " 6   Primary Type          1456714 non-null  object \n",
      " 7   Description           1456714 non-null  object \n",
      " 8   Location Description  1455056 non-null  object \n",
      " 9   Arrest                1456714 non-null  bool   \n",
      " 10  Domestic              1456714 non-null  bool   \n",
      " 11  Beat                  1456714 non-null  int64  \n",
      " 12  District              1456713 non-null  float64\n",
      " 13  Ward                  1456700 non-null  float64\n",
      " 14  Community Area        1456674 non-null  float64\n",
      " 15  FBI Code              1456714 non-null  object \n",
      " 16  X Coordinate          1419631 non-null  float64\n",
      " 17  Y Coordinate          1419631 non-null  float64\n",
      " 18  Year                  1456714 non-null  int64  \n",
      " 19  Updated On            1456714 non-null  object \n",
      " 20  Latitude              1419631 non-null  float64\n",
      " 21  Longitude             1419631 non-null  float64\n",
      " 22  Location              1419631 non-null  object \n",
      "dtypes: bool(2), float64(7), int64(4), object(10)\n",
      "memory usage: 236.2+ MB\n"
     ]
    }
   ],
   "source": [
    "data.info()"
   ]
  },
  {
   "cell_type": "code",
   "execution_count": 13,
   "metadata": {},
   "outputs": [],
   "source": [
    "data.drop([\"IUCR\",\"Unnamed: 0\",\"ID\",\"Case Number\",\"Updated On\",\"Block\",\"Description\",\"FBI Code\",\"Location\",\"Year\",\"Date\"], axis=1, inplace=True)"
   ]
  },
  {
   "cell_type": "code",
   "execution_count": 14,
   "metadata": {},
   "outputs": [
    {
     "data": {
      "text/html": [
       "<div>\n",
       "<style scoped>\n",
       "    .dataframe tbody tr th:only-of-type {\n",
       "        vertical-align: middle;\n",
       "    }\n",
       "\n",
       "    .dataframe tbody tr th {\n",
       "        vertical-align: top;\n",
       "    }\n",
       "\n",
       "    .dataframe thead th {\n",
       "        text-align: right;\n",
       "    }\n",
       "</style>\n",
       "<table border=\"1\" class=\"dataframe\">\n",
       "  <thead>\n",
       "    <tr style=\"text-align: right;\">\n",
       "      <th></th>\n",
       "      <th>Primary Type</th>\n",
       "      <th>Location Description</th>\n",
       "      <th>Arrest</th>\n",
       "      <th>Domestic</th>\n",
       "      <th>Beat</th>\n",
       "      <th>District</th>\n",
       "      <th>Ward</th>\n",
       "      <th>Community Area</th>\n",
       "      <th>X Coordinate</th>\n",
       "      <th>Y Coordinate</th>\n",
       "      <th>Latitude</th>\n",
       "      <th>Longitude</th>\n",
       "    </tr>\n",
       "  </thead>\n",
       "  <tbody>\n",
       "    <tr>\n",
       "      <th>0</th>\n",
       "      <td>BATTERY</td>\n",
       "      <td>APARTMENT</td>\n",
       "      <td>True</td>\n",
       "      <td>True</td>\n",
       "      <td>1022</td>\n",
       "      <td>10.0</td>\n",
       "      <td>24.0</td>\n",
       "      <td>29.0</td>\n",
       "      <td>1154907.0</td>\n",
       "      <td>1893681.0</td>\n",
       "      <td>41.864073</td>\n",
       "      <td>-87.706819</td>\n",
       "    </tr>\n",
       "    <tr>\n",
       "      <th>1</th>\n",
       "      <td>BATTERY</td>\n",
       "      <td>RESIDENCE</td>\n",
       "      <td>False</td>\n",
       "      <td>True</td>\n",
       "      <td>313</td>\n",
       "      <td>3.0</td>\n",
       "      <td>20.0</td>\n",
       "      <td>42.0</td>\n",
       "      <td>1183066.0</td>\n",
       "      <td>1864330.0</td>\n",
       "      <td>41.782922</td>\n",
       "      <td>-87.604363</td>\n",
       "    </tr>\n",
       "    <tr>\n",
       "      <th>2</th>\n",
       "      <td>PUBLIC PEACE VIOLATION</td>\n",
       "      <td>STREET</td>\n",
       "      <td>False</td>\n",
       "      <td>False</td>\n",
       "      <td>1524</td>\n",
       "      <td>15.0</td>\n",
       "      <td>37.0</td>\n",
       "      <td>25.0</td>\n",
       "      <td>1140789.0</td>\n",
       "      <td>1904819.0</td>\n",
       "      <td>41.894908</td>\n",
       "      <td>-87.758372</td>\n",
       "    </tr>\n",
       "    <tr>\n",
       "      <th>3</th>\n",
       "      <td>BATTERY</td>\n",
       "      <td>SIDEWALK</td>\n",
       "      <td>False</td>\n",
       "      <td>False</td>\n",
       "      <td>1532</td>\n",
       "      <td>15.0</td>\n",
       "      <td>28.0</td>\n",
       "      <td>25.0</td>\n",
       "      <td>1143223.0</td>\n",
       "      <td>1901475.0</td>\n",
       "      <td>41.885687</td>\n",
       "      <td>-87.749516</td>\n",
       "    </tr>\n",
       "    <tr>\n",
       "      <th>4</th>\n",
       "      <td>THEFT</td>\n",
       "      <td>RESIDENCE</td>\n",
       "      <td>False</td>\n",
       "      <td>True</td>\n",
       "      <td>1523</td>\n",
       "      <td>15.0</td>\n",
       "      <td>28.0</td>\n",
       "      <td>25.0</td>\n",
       "      <td>1139890.0</td>\n",
       "      <td>1901675.0</td>\n",
       "      <td>41.886297</td>\n",
       "      <td>-87.761751</td>\n",
       "    </tr>\n",
       "  </tbody>\n",
       "</table>\n",
       "</div>"
      ],
      "text/plain": [
       "             Primary Type Location Description  Arrest  Domestic  Beat  \\\n",
       "0                 BATTERY            APARTMENT    True      True  1022   \n",
       "1                 BATTERY            RESIDENCE   False      True   313   \n",
       "2  PUBLIC PEACE VIOLATION               STREET   False     False  1524   \n",
       "3                 BATTERY             SIDEWALK   False     False  1532   \n",
       "4                   THEFT            RESIDENCE   False      True  1523   \n",
       "\n",
       "   District  Ward  Community Area  X Coordinate  Y Coordinate   Latitude  \\\n",
       "0      10.0  24.0            29.0     1154907.0     1893681.0  41.864073   \n",
       "1       3.0  20.0            42.0     1183066.0     1864330.0  41.782922   \n",
       "2      15.0  37.0            25.0     1140789.0     1904819.0  41.894908   \n",
       "3      15.0  28.0            25.0     1143223.0     1901475.0  41.885687   \n",
       "4      15.0  28.0            25.0     1139890.0     1901675.0  41.886297   \n",
       "\n",
       "   Longitude  \n",
       "0 -87.706819  \n",
       "1 -87.604363  \n",
       "2 -87.758372  \n",
       "3 -87.749516  \n",
       "4 -87.761751  "
      ]
     },
     "execution_count": 14,
     "metadata": {},
     "output_type": "execute_result"
    }
   ],
   "source": [
    "data.head()"
   ]
  },
  {
   "cell_type": "code",
   "execution_count": 15,
   "metadata": {},
   "outputs": [
    {
     "data": {
      "text/plain": [
       "Primary Type                0\n",
       "Location Description     1658\n",
       "Arrest                      0\n",
       "Domestic                    0\n",
       "Beat                        0\n",
       "District                    1\n",
       "Ward                       14\n",
       "Community Area             40\n",
       "X Coordinate            37083\n",
       "Y Coordinate            37083\n",
       "Latitude                37083\n",
       "Longitude               37083\n",
       "dtype: int64"
      ]
     },
     "execution_count": 15,
     "metadata": {},
     "output_type": "execute_result"
    }
   ],
   "source": [
    "data.isna().sum()"
   ]
  },
  {
   "cell_type": "code",
   "execution_count": 16,
   "metadata": {},
   "outputs": [],
   "source": [
    "data.dropna(inplace=True)"
   ]
  },
  {
   "cell_type": "code",
   "execution_count": 17,
   "metadata": {},
   "outputs": [
    {
     "data": {
      "text/plain": [
       "Primary Type            0\n",
       "Location Description    0\n",
       "Arrest                  0\n",
       "Domestic                0\n",
       "Beat                    0\n",
       "District                0\n",
       "Ward                    0\n",
       "Community Area          0\n",
       "X Coordinate            0\n",
       "Y Coordinate            0\n",
       "Latitude                0\n",
       "Longitude               0\n",
       "dtype: int64"
      ]
     },
     "execution_count": 17,
     "metadata": {},
     "output_type": "execute_result"
    }
   ],
   "source": [
    "data.isna().sum()"
   ]
  },
  {
   "cell_type": "code",
   "execution_count": 18,
   "metadata": {},
   "outputs": [
    {
     "data": {
      "text/plain": [
       "dtype('bool')"
      ]
     },
     "execution_count": 18,
     "metadata": {},
     "output_type": "execute_result"
    }
   ],
   "source": [
    "data.Arrest.dtype"
   ]
  },
  {
   "cell_type": "code",
   "execution_count": 19,
   "metadata": {},
   "outputs": [
    {
     "data": {
      "text/html": [
       "<div>\n",
       "<style scoped>\n",
       "    .dataframe tbody tr th:only-of-type {\n",
       "        vertical-align: middle;\n",
       "    }\n",
       "\n",
       "    .dataframe tbody tr th {\n",
       "        vertical-align: top;\n",
       "    }\n",
       "\n",
       "    .dataframe thead th {\n",
       "        text-align: right;\n",
       "    }\n",
       "</style>\n",
       "<table border=\"1\" class=\"dataframe\">\n",
       "  <thead>\n",
       "    <tr style=\"text-align: right;\">\n",
       "      <th></th>\n",
       "      <th>Primary Type</th>\n",
       "      <th>Location Description</th>\n",
       "      <th>Arrest</th>\n",
       "      <th>Domestic</th>\n",
       "      <th>Beat</th>\n",
       "      <th>District</th>\n",
       "      <th>Ward</th>\n",
       "      <th>Community Area</th>\n",
       "      <th>X Coordinate</th>\n",
       "      <th>Y Coordinate</th>\n",
       "      <th>Latitude</th>\n",
       "      <th>Longitude</th>\n",
       "    </tr>\n",
       "  </thead>\n",
       "  <tbody>\n",
       "    <tr>\n",
       "      <th>0</th>\n",
       "      <td>2</td>\n",
       "      <td>17</td>\n",
       "      <td>1</td>\n",
       "      <td>1</td>\n",
       "      <td>1022</td>\n",
       "      <td>10.0</td>\n",
       "      <td>24.0</td>\n",
       "      <td>29.0</td>\n",
       "      <td>1154907.0</td>\n",
       "      <td>1893681.0</td>\n",
       "      <td>41.864073</td>\n",
       "      <td>-87.706819</td>\n",
       "    </tr>\n",
       "    <tr>\n",
       "      <th>1</th>\n",
       "      <td>2</td>\n",
       "      <td>109</td>\n",
       "      <td>0</td>\n",
       "      <td>1</td>\n",
       "      <td>313</td>\n",
       "      <td>3.0</td>\n",
       "      <td>20.0</td>\n",
       "      <td>42.0</td>\n",
       "      <td>1183066.0</td>\n",
       "      <td>1864330.0</td>\n",
       "      <td>41.782922</td>\n",
       "      <td>-87.604363</td>\n",
       "    </tr>\n",
       "    <tr>\n",
       "      <th>2</th>\n",
       "      <td>27</td>\n",
       "      <td>125</td>\n",
       "      <td>0</td>\n",
       "      <td>0</td>\n",
       "      <td>1524</td>\n",
       "      <td>15.0</td>\n",
       "      <td>37.0</td>\n",
       "      <td>25.0</td>\n",
       "      <td>1140789.0</td>\n",
       "      <td>1904819.0</td>\n",
       "      <td>41.894908</td>\n",
       "      <td>-87.758372</td>\n",
       "    </tr>\n",
       "    <tr>\n",
       "      <th>3</th>\n",
       "      <td>2</td>\n",
       "      <td>121</td>\n",
       "      <td>0</td>\n",
       "      <td>0</td>\n",
       "      <td>1532</td>\n",
       "      <td>15.0</td>\n",
       "      <td>28.0</td>\n",
       "      <td>25.0</td>\n",
       "      <td>1143223.0</td>\n",
       "      <td>1901475.0</td>\n",
       "      <td>41.885687</td>\n",
       "      <td>-87.749516</td>\n",
       "    </tr>\n",
       "    <tr>\n",
       "      <th>4</th>\n",
       "      <td>31</td>\n",
       "      <td>109</td>\n",
       "      <td>0</td>\n",
       "      <td>1</td>\n",
       "      <td>1523</td>\n",
       "      <td>15.0</td>\n",
       "      <td>28.0</td>\n",
       "      <td>25.0</td>\n",
       "      <td>1139890.0</td>\n",
       "      <td>1901675.0</td>\n",
       "      <td>41.886297</td>\n",
       "      <td>-87.761751</td>\n",
       "    </tr>\n",
       "  </tbody>\n",
       "</table>\n",
       "</div>"
      ],
      "text/plain": [
       "   Primary Type  Location Description  Arrest  Domestic  Beat  District  Ward  \\\n",
       "0             2                    17       1         1  1022      10.0  24.0   \n",
       "1             2                   109       0         1   313       3.0  20.0   \n",
       "2            27                   125       0         0  1524      15.0  37.0   \n",
       "3             2                   121       0         0  1532      15.0  28.0   \n",
       "4            31                   109       0         1  1523      15.0  28.0   \n",
       "\n",
       "   Community Area  X Coordinate  Y Coordinate   Latitude  Longitude  \n",
       "0            29.0     1154907.0     1893681.0  41.864073 -87.706819  \n",
       "1            42.0     1183066.0     1864330.0  41.782922 -87.604363  \n",
       "2            25.0     1140789.0     1904819.0  41.894908 -87.758372  \n",
       "3            25.0     1143223.0     1901475.0  41.885687 -87.749516  \n",
       "4            25.0     1139890.0     1901675.0  41.886297 -87.761751  "
      ]
     },
     "execution_count": 19,
     "metadata": {},
     "output_type": "execute_result"
    }
   ],
   "source": [
    "boolean_mapper = {True:1,False:0}\n",
    "\n",
    "data[\"Arrest\"] = data[\"Arrest\"].map(boolean_mapper)\n",
    "data[\"Domestic\"] = data[\"Domestic\"].map(boolean_mapper)\n",
    "\n",
    "encoder = LabelEncoder()\n",
    "data[[\"Primary Type\",'Location Description']] = data[[\"Primary Type\",'Location Description']].apply(encoder.fit_transform)\n",
    "\n",
    "data.head()\n"
   ]
  },
  {
   "cell_type": "code",
   "execution_count": 20,
   "metadata": {},
   "outputs": [
    {
     "data": {
      "text/plain": [
       "Primary Type              int64\n",
       "Location Description      int64\n",
       "Arrest                    int64\n",
       "Domestic                  int64\n",
       "Beat                      int64\n",
       "District                float64\n",
       "Ward                    float64\n",
       "Community Area          float64\n",
       "X Coordinate            float64\n",
       "Y Coordinate            float64\n",
       "Latitude                float64\n",
       "Longitude               float64\n",
       "dtype: object"
      ]
     },
     "execution_count": 20,
     "metadata": {},
     "output_type": "execute_result"
    }
   ],
   "source": [
    "data.dtypes"
   ]
  },
  {
   "cell_type": "code",
   "execution_count": 21,
   "metadata": {},
   "outputs": [],
   "source": [
    "# Split the data into training and testing sets\n",
    "X_train, X_test, y_train, y_test = train_test_split(data.drop(\n",
    "    'Primary Type', axis=1), data['Primary Type'], test_size=0.2, random_state=42)\n"
   ]
  },
  {
   "cell_type": "code",
   "execution_count": 7,
   "metadata": {},
   "outputs": [],
   "source": [
    "from sklearn.ensemble import RandomForestClassifier\n",
    "# Initialize the Naive Bayes classifier\n",
    "clf = RandomForestClassifier(random_state=0)\n"
   ]
  },
  {
   "cell_type": "code",
   "execution_count": 8,
   "metadata": {},
   "outputs": [
    {
     "ename": "NameError",
     "evalue": "name 'X_train' is not defined",
     "output_type": "error",
     "traceback": [
      "\u001b[0;31m---------------------------------------------------------------------------\u001b[0m",
      "\u001b[0;31mNameError\u001b[0m                                 Traceback (most recent call last)",
      "Cell \u001b[0;32mIn[8], line 2\u001b[0m\n\u001b[1;32m      1\u001b[0m \u001b[39m# Train the classifier on the training data\u001b[39;00m\n\u001b[0;32m----> 2\u001b[0m clf\u001b[39m.\u001b[39mfit(X_train, y_train)\n",
      "\u001b[0;31mNameError\u001b[0m: name 'X_train' is not defined"
     ]
    }
   ],
   "source": [
    "\n",
    "# Train the classifier on the training data\n",
    "clf.fit(X_train, y_train)\n"
   ]
  },
  {
   "cell_type": "code",
   "execution_count": 73,
   "metadata": {},
   "outputs": [],
   "source": [
    "# Use the classifier to make predictions on the test data\n",
    "y_pred = clf.predict(X_test)\n"
   ]
  },
  {
   "cell_type": "code",
   "execution_count": 74,
   "metadata": {},
   "outputs": [],
   "source": [
    "\n",
    "# Evaluate the accuracy of the classifier\n",
    "accuracy = accuracy_score(y_test, y_pred)\n"
   ]
  },
  {
   "cell_type": "code",
   "execution_count": 75,
   "metadata": {},
   "outputs": [
    {
     "name": "stdout",
     "output_type": "stream",
     "text": [
      "Accuracy: 0.39041078988835737\n"
     ]
    }
   ],
   "source": [
    "\n",
    "print(f\"Accuracy: {accuracy}\")\n"
   ]
  },
  {
   "cell_type": "code",
   "execution_count": 76,
   "metadata": {},
   "outputs": [
    {
     "name": "stdout",
     "output_type": "stream",
     "text": [
      "Accuracy: 0.3605877189580961\n"
     ]
    }
   ],
   "source": [
    "from sklearn.tree import DecisionTreeClassifier\n",
    "# Initialize the Naive Bayes classifier\n",
    "clf = DecisionTreeClassifier(random_state=0)\n",
    "\n",
    "clf.fit(X_train, y_train)\n",
    "\n",
    "y_pred = clf.predict(X_test)\n",
    "\n",
    "accuracy = accuracy_score(y_test, y_pred)\n",
    "\n",
    "print(f\"Accuracy: {accuracy}\")"
   ]
  },
  {
   "cell_type": "code",
   "execution_count": 22,
   "metadata": {},
   "outputs": [
    {
     "name": "stdout",
     "output_type": "stream",
     "text": [
      "Accuracy: 0.3775297613801807\n"
     ]
    }
   ],
   "source": [
    "from sklearn.ensemble import ExtraTreesClassifier\n",
    "# Initialize the Naive Bayes classifier\n",
    "clf = ExtraTreesClassifier(random_state=0)\n",
    "\n",
    "clf.fit(X_train, y_train)\n",
    "\n",
    "y_pred = clf.predict(X_test)\n",
    "\n",
    "accuracy = accuracy_score(y_test, y_pred)\n",
    "\n",
    "print(f\"Accuracy: {accuracy}\")"
   ]
  },
  {
   "cell_type": "code",
   "execution_count": 23,
   "metadata": {},
   "outputs": [
    {
     "name": "stdout",
     "output_type": "stream",
     "text": [
      "Accuracy: 0.37327838743905833\n"
     ]
    }
   ],
   "source": [
    "from sklearn.ensemble import AdaBoostClassifier\n",
    "# Initialize the Naive Bayes classifier\n",
    "clf = AdaBoostClassifier(random_state=0)\n",
    "\n",
    "clf.fit(X_train, y_train)\n",
    "\n",
    "y_pred = clf.predict(X_test)\n",
    "\n",
    "accuracy = accuracy_score(y_test, y_pred)\n",
    "\n",
    "print(f\"Accuracy: {accuracy}\")"
   ]
  },
  {
   "cell_type": "code",
   "execution_count": 24,
   "metadata": {},
   "outputs": [
    {
     "name": "stdout",
     "output_type": "stream",
     "text": [
      "Accuracy: 0.3567417413712267\n"
     ]
    }
   ],
   "source": [
    "from lightgbm import LGBMClassifier\n",
    "# Initialize the Naive Bayes classifier\n",
    "clf = LGBMClassifier(random_state=0)\n",
    "\n",
    "clf.fit(X_train, y_train)\n",
    "\n",
    "y_pred = clf.predict(X_test)\n",
    "\n",
    "accuracy = accuracy_score(y_test, y_pred)\n",
    "\n",
    "print(f\"Accuracy: {accuracy}\")"
   ]
  },
  {
   "attachments": {},
   "cell_type": "markdown",
   "metadata": {},
   "source": [
    "## ways to visualize the data\n",
    "\n",
    "There are many ways to visualize the results of a crime prediction model. Here are a few options:\n",
    "\n",
    "Confusion Matrix: A confusion matrix is a table that visualizes the performance of a classification model. It shows how often the model predicted each class, and how often it was correct. You can use the confusion_matrix function from scikit-learn to generate a confusion matrix for your Naive Bayes classifier.\n",
    "\n",
    "Receiver Operating Characteristic (ROC) Curve: An ROC curve is a graphical representation of the performance of a binary classifier at different classification thresholds. It shows the trade-off between the true positive rate and the false positive rate. You can use the roc_curve and roc_auc_score functions from scikit-learn to generate an ROC curve for your Naive Bayes classifier.\n",
    "\n",
    "Feature Importance Plot: A feature importance plot can help you understand which features in your dataset are most important for predicting crime. You can use the feature_importances_ attribute of your Naive Bayes classifier to get a list of feature importances, and then use a library like Matplotlib or Seaborn to plot the results.\n",
    "\n",
    "Geospatial Map: If your crime data includes geospatial information, you can create a geospatial map that shows the location and frequency of crimes in different areas. You can use a library like Folium or Plotly to create interactive maps that allow users to explore the data in more detail.\n",
    "\n",
    "These are just a few examples of the many ways you can visualize the results of your crime prediction model. The best way to choose a visualization method is to consider your audience and the specific insights you want to convey."
   ]
  },
  {
   "attachments": {},
   "cell_type": "markdown",
   "metadata": {},
   "source": [
    "## Important features of the dataset\n",
    "\n",
    "To efficiently train a crime prediction model using the Naive Bayes algorithm, your crime dataset should have the following features:\n",
    "\n",
    "Crime Type: The type of crime is the target variable that the model will predict. It is important to have a well-defined set of crime types that are mutually exclusive and collectively exhaustive.\n",
    "\n",
    "Date and Time: The date and time of the crime can be useful features for predicting crime patterns over time. You can extract features such as the day of the week, time of day, and month of the year.\n",
    "\n",
    "Location: The location of the crime can also be an important feature. You can use geospatial coordinates to represent the crime location and extract features such as the neighborhood, city, or state.\n",
    "\n",
    "Victim Information: The characteristics of the victim, such as age, gender, and occupation, can provide useful information about the types of crimes that are more likely to occur.\n",
    "\n",
    "Suspect Information: If available, information about the characteristics of the suspect, such as age, gender, and race, can also provide insights into crime patterns.\n",
    "\n",
    "Other Relevant Features: Depending on the specific use case, there may be other relevant features that could be useful for predicting crime patterns. For example, if the goal is to predict property crime, you might include features such as the value of the stolen property or the type of security system in place.\n",
    "\n",
    "It's important to note that the quality and quantity of data available can also impact the performance of the Naive Bayes algorithm. Generally, more data and better quality data will lead to a more accurate and reliable model. Additionally, it's important to properly preprocess and clean the data to ensure that it is in the appropriate format and that outliers and missing values have been appropriately handled.\n"
   ]
  }
 ],
 "metadata": {
  "kernelspec": {
   "display_name": "crime_prediction",
   "language": "python",
   "name": "python3"
  },
  "language_info": {
   "codemirror_mode": {
    "name": "ipython",
    "version": 3
   },
   "file_extension": ".py",
   "mimetype": "text/x-python",
   "name": "python",
   "nbconvert_exporter": "python",
   "pygments_lexer": "ipython3",
   "version": "3.9.15"
  },
  "orig_nbformat": 4,
  "vscode": {
   "interpreter": {
    "hash": "d10a9299fac925aa21258919c93544d328dde4d888ccd5b424e8b78282dc6071"
   }
  }
 },
 "nbformat": 4,
 "nbformat_minor": 2
}
